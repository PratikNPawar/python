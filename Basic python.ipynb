{
 "cells": [
  {
   "cell_type": "markdown",
   "metadata": {},
   "source": [
    "Data types\n",
    "    * Numeric:\n",
    "     1) Integer:\n",
    "     2)complex number:\n",
    "     3)float:\n",
    "     \n",
    "   * Sequence type:\n",
    "     1)Strings\n",
    "     2)Tuples:\n",
    "     3) Lists\n",
    "    \n",
    "   * Dictionaries\n",
    "   \n",
    "   * Booleans\n",
    "      \n",
    "   * Sets"
   ]
  },
  {
   "cell_type": "markdown",
   "metadata": {},
   "source": [
    "# 1) Integer: (with operators)"
   ]
  },
  {
   "cell_type": "code",
   "execution_count": 1,
   "metadata": {},
   "outputs": [
    {
     "data": {
      "text/plain": [
       "54"
      ]
     },
     "execution_count": 1,
     "metadata": {},
     "output_type": "execute_result"
    }
   ],
   "source": [
    "27 + 27"
   ]
  },
  {
   "cell_type": "code",
   "execution_count": 2,
   "metadata": {},
   "outputs": [
    {
     "data": {
      "text/plain": [
       "20"
      ]
     },
     "execution_count": 2,
     "metadata": {},
     "output_type": "execute_result"
    }
   ],
   "source": [
    "27-7"
   ]
  },
  {
   "cell_type": "code",
   "execution_count": 3,
   "metadata": {},
   "outputs": [
    {
     "data": {
      "text/plain": [
       "27"
      ]
     },
     "execution_count": 3,
     "metadata": {},
     "output_type": "execute_result"
    }
   ],
   "source": [
    "3*9"
   ]
  },
  {
   "cell_type": "code",
   "execution_count": 4,
   "metadata": {},
   "outputs": [
    {
     "data": {
      "text/plain": [
       "3.0"
      ]
     },
     "execution_count": 4,
     "metadata": {},
     "output_type": "execute_result"
    }
   ],
   "source": [
    "9/3"
   ]
  },
  {
   "cell_type": "code",
   "execution_count": 5,
   "metadata": {},
   "outputs": [
    {
     "data": {
      "text/plain": [
       "3"
      ]
     },
     "execution_count": 5,
     "metadata": {},
     "output_type": "execute_result"
    }
   ],
   "source": [
    "10 // 3                           #Integer division operator (//) : gives result as whole number"
   ]
  },
  {
   "cell_type": "code",
   "execution_count": 6,
   "metadata": {},
   "outputs": [
    {
     "data": {
      "text/plain": [
       "-3"
      ]
     },
     "execution_count": 6,
     "metadata": {},
     "output_type": "execute_result"
    }
   ],
   "source": [
    "-5 // 2"
   ]
  },
  {
   "cell_type": "code",
   "execution_count": 7,
   "metadata": {},
   "outputs": [
    {
     "data": {
      "text/plain": [
       "1"
      ]
     },
     "execution_count": 7,
     "metadata": {},
     "output_type": "execute_result"
    }
   ],
   "source": [
    " 10 % 3                         # mod : gives remainder"
   ]
  },
  {
   "cell_type": "code",
   "execution_count": 8,
   "metadata": {},
   "outputs": [
    {
     "data": {
      "text/plain": [
       "2401"
      ]
     },
     "execution_count": 8,
     "metadata": {},
     "output_type": "execute_result"
    }
   ],
   "source": [
    "7 ** 4                          #exponent: raise a number to power"
   ]
  },
  {
   "cell_type": "markdown",
   "metadata": {},
   "source": [
    "# 2) complex number:\n"
   ]
  },
  {
   "cell_type": "code",
   "execution_count": 9,
   "metadata": {},
   "outputs": [],
   "source": [
    "x=1+2j"
   ]
  },
  {
   "cell_type": "code",
   "execution_count": 10,
   "metadata": {},
   "outputs": [
    {
     "name": "stdout",
     "output_type": "stream",
     "text": [
      "(1+2j)\n"
     ]
    }
   ],
   "source": [
    "print(x)"
   ]
  },
  {
   "cell_type": "markdown",
   "metadata": {},
   "source": [
    "# 3) float :"
   ]
  },
  {
   "cell_type": "code",
   "execution_count": 11,
   "metadata": {},
   "outputs": [
    {
     "data": {
      "text/plain": [
       "2.4032999999999998"
      ]
     },
     "execution_count": 11,
     "metadata": {},
     "output_type": "execute_result"
    }
   ],
   "source": [
    "2.07 + 0.3333"
   ]
  },
  {
   "cell_type": "code",
   "execution_count": 12,
   "metadata": {},
   "outputs": [],
   "source": [
    "x=3.14\n"
   ]
  },
  {
   "cell_type": "code",
   "execution_count": 13,
   "metadata": {},
   "outputs": [
    {
     "data": {
      "text/plain": [
       "6.28"
      ]
     },
     "execution_count": 13,
     "metadata": {},
     "output_type": "execute_result"
    }
   ],
   "source": [
    "x * 2"
   ]
  },
  {
   "cell_type": "markdown",
   "metadata": {},
   "source": [
    "# Sequence types:\n",
    "\n",
    "# 1)strings:"
   ]
  },
  {
   "cell_type": "code",
   "execution_count": 14,
   "metadata": {},
   "outputs": [
    {
     "data": {
      "text/plain": [
       "'Hello'"
      ]
     },
     "execution_count": 14,
     "metadata": {},
     "output_type": "execute_result"
    }
   ],
   "source": [
    "'Hello'\n"
   ]
  },
  {
   "cell_type": "code",
   "execution_count": 15,
   "metadata": {},
   "outputs": [
    {
     "data": {
      "text/plain": [
       "'How are u??'"
      ]
     },
     "execution_count": 15,
     "metadata": {},
     "output_type": "execute_result"
    }
   ],
   "source": [
    "\"How are u??\""
   ]
  },
  {
   "cell_type": "code",
   "execution_count": 16,
   "metadata": {},
   "outputs": [
    {
     "name": "stdout",
     "output_type": "stream",
     "text": [
      "Hello\n",
      "How are u?\n"
     ]
    }
   ],
   "source": [
    "print('Hello')\n",
    "print(\"How are u?\")"
   ]
  },
  {
   "cell_type": "code",
   "execution_count": 17,
   "metadata": {},
   "outputs": [
    {
     "name": "stdout",
     "output_type": "stream",
     "text": [
      "go \"for\" it \n"
     ]
    }
   ],
   "source": [
    "print('go \"for\" it ')"
   ]
  },
  {
   "cell_type": "code",
   "execution_count": 18,
   "metadata": {},
   "outputs": [
    {
     "name": "stdout",
     "output_type": "stream",
     "text": [
      " Hi how are u? \"Ollie\".\n"
     ]
    }
   ],
   "source": [
    "print(\"\"\" Hi how are u? \"Ollie\".\"\"\")"
   ]
  },
  {
   "cell_type": "code",
   "execution_count": 19,
   "metadata": {},
   "outputs": [
    {
     "name": "stdout",
     "output_type": "stream",
     "text": [
      "one\n",
      "two\n",
      "three \n"
     ]
    }
   ],
   "source": [
    "print(\"\"\"one\n",
    "two\n",
    "three \"\"\")"
   ]
  },
  {
   "cell_type": "markdown",
   "metadata": {},
   "source": [
    "# variable:"
   ]
  },
  {
   "cell_type": "code",
   "execution_count": 20,
   "metadata": {},
   "outputs": [],
   "source": [
    "x=1.234"
   ]
  },
  {
   "cell_type": "code",
   "execution_count": 21,
   "metadata": {},
   "outputs": [],
   "source": [
    "y= 3.567"
   ]
  },
  {
   "cell_type": "code",
   "execution_count": 22,
   "metadata": {},
   "outputs": [],
   "source": [
    "z=x+y"
   ]
  },
  {
   "cell_type": "code",
   "execution_count": 23,
   "metadata": {},
   "outputs": [
    {
     "data": {
      "text/plain": [
       "4.801"
      ]
     },
     "execution_count": 23,
     "metadata": {},
     "output_type": "execute_result"
    }
   ],
   "source": [
    "z"
   ]
  },
  {
   "cell_type": "code",
   "execution_count": 24,
   "metadata": {},
   "outputs": [
    {
     "name": "stdout",
     "output_type": "stream",
     "text": [
      "4.801\n"
     ]
    }
   ],
   "source": [
    "print(z)"
   ]
  },
  {
   "cell_type": "code",
   "execution_count": 25,
   "metadata": {},
   "outputs": [
    {
     "name": "stdout",
     "output_type": "stream",
     "text": [
      "I am staying in room number\n",
      "777\n"
     ]
    }
   ],
   "source": [
    "a=777\n",
    "print('I am staying in room number')\n",
    "print(a)"
   ]
  },
  {
   "cell_type": "code",
   "execution_count": 26,
   "metadata": {},
   "outputs": [
    {
     "name": "stdout",
     "output_type": "stream",
     "text": [
      "I am staying in room 777\n"
     ]
    }
   ],
   "source": [
    "print('I am staying in room',a)"
   ]
  },
  {
   "cell_type": "code",
   "execution_count": 27,
   "metadata": {},
   "outputs": [
    {
     "name": "stdout",
     "output_type": "stream",
     "text": [
      "addition of x and y is 4.801\n"
     ]
    }
   ],
   "source": [
    "print('addition of x and y is',z)"
   ]
  },
  {
   "cell_type": "markdown",
   "metadata": {},
   "source": [
    "# format"
   ]
  },
  {
   "cell_type": "code",
   "execution_count": 28,
   "metadata": {},
   "outputs": [
    {
     "data": {
      "text/plain": [
       "'z is addition of 1.234 and 3.567'"
      ]
     },
     "execution_count": 28,
     "metadata": {},
     "output_type": "execute_result"
    }
   ],
   "source": [
    "'z is addition of {} and {}'.format(x,y)"
   ]
  },
  {
   "cell_type": "code",
   "execution_count": 29,
   "metadata": {},
   "outputs": [
    {
     "name": "stdout",
     "output_type": "stream",
     "text": [
      "z is addition of 1.234 and 3.567\n"
     ]
    }
   ],
   "source": [
    "print('z is addition of {} and {}'.format(x,y))"
   ]
  },
  {
   "cell_type": "code",
   "execution_count": 30,
   "metadata": {},
   "outputs": [
    {
     "name": "stdout",
     "output_type": "stream",
     "text": [
      "z is addition of 1.234 and 3.567\n"
     ]
    }
   ],
   "source": [
    "print('z is addition of {a} and {b}'.format(a=x,b=y))"
   ]
  },
  {
   "cell_type": "markdown",
   "metadata": {},
   "source": [
    "# Indexing= it starts with 0"
   ]
  },
  {
   "cell_type": "code",
   "execution_count": 31,
   "metadata": {},
   "outputs": [],
   "source": [
    " r= 'prameeta'"
   ]
  },
  {
   "cell_type": "code",
   "execution_count": 32,
   "metadata": {},
   "outputs": [
    {
     "data": {
      "text/plain": [
       "'p'"
      ]
     },
     "execution_count": 32,
     "metadata": {},
     "output_type": "execute_result"
    }
   ],
   "source": [
    "r[0]"
   ]
  },
  {
   "cell_type": "code",
   "execution_count": 33,
   "metadata": {},
   "outputs": [],
   "source": [
    "#slicing"
   ]
  },
  {
   "cell_type": "code",
   "execution_count": 34,
   "metadata": {},
   "outputs": [
    {
     "data": {
      "text/plain": [
       "'prameeta'"
      ]
     },
     "execution_count": 34,
     "metadata": {},
     "output_type": "execute_result"
    }
   ],
   "source": [
    "r[0:]"
   ]
  },
  {
   "cell_type": "code",
   "execution_count": 35,
   "metadata": {},
   "outputs": [
    {
     "data": {
      "text/plain": [
       "'pra'"
      ]
     },
     "execution_count": 35,
     "metadata": {},
     "output_type": "execute_result"
    }
   ],
   "source": [
    "r[:3]"
   ]
  },
  {
   "cell_type": "code",
   "execution_count": 36,
   "metadata": {},
   "outputs": [
    {
     "data": {
      "text/plain": [
       "'pra'"
      ]
     },
     "execution_count": 36,
     "metadata": {},
     "output_type": "execute_result"
    }
   ],
   "source": [
    "r[0:3]"
   ]
  },
  {
   "cell_type": "code",
   "execution_count": 37,
   "metadata": {},
   "outputs": [
    {
     "data": {
      "text/plain": [
       "'ameeta'"
      ]
     },
     "execution_count": 37,
     "metadata": {},
     "output_type": "execute_result"
    }
   ],
   "source": [
    "r[2:8]"
   ]
  },
  {
   "cell_type": "code",
   "execution_count": 38,
   "metadata": {},
   "outputs": [
    {
     "data": {
      "text/plain": [
       "str"
      ]
     },
     "execution_count": 38,
     "metadata": {},
     "output_type": "execute_result"
    }
   ],
   "source": [
    "type(r)"
   ]
  },
  {
   "cell_type": "code",
   "execution_count": 39,
   "metadata": {},
   "outputs": [
    {
     "data": {
      "text/plain": [
       "float"
      ]
     },
     "execution_count": 39,
     "metadata": {},
     "output_type": "execute_result"
    }
   ],
   "source": [
    "type(z)"
   ]
  },
  {
   "cell_type": "code",
   "execution_count": 40,
   "metadata": {},
   "outputs": [
    {
     "name": "stdout",
     "output_type": "stream",
     "text": [
      "0\n"
     ]
    }
   ],
   "source": [
    "z=5\n",
    "z=0\n",
    "print(z)"
   ]
  },
  {
   "cell_type": "markdown",
   "metadata": {},
   "source": [
    "# List [ ]:\n",
    "A list is an object that contains multiple data items. Lists are mutable,which means that their contents can be changed during a program’s execution. Lists are dynamic data structures, meaning that items may be added to them or removed from them. You can use indexing, slicing, and various methods to work with lists in a program."
   ]
  },
  {
   "cell_type": "code",
   "execution_count": 41,
   "metadata": {},
   "outputs": [],
   "source": [
    "names = ['Molly', 'Steven', 'Will', 'Alicia', 'Adriana'] #list of strings"
   ]
  },
  {
   "cell_type": "code",
   "execution_count": 42,
   "metadata": {},
   "outputs": [
    {
     "data": {
      "text/plain": [
       "['Molly', 'Steven', 'Will', 'Alicia', 'Adriana']"
      ]
     },
     "execution_count": 42,
     "metadata": {},
     "output_type": "execute_result"
    }
   ],
   "source": [
    "names"
   ]
  },
  {
   "cell_type": "code",
   "execution_count": 43,
   "metadata": {},
   "outputs": [
    {
     "name": "stdout",
     "output_type": "stream",
     "text": [
      "['Molly', 'Steven', 'Will', 'Alicia', 'Adriana']\n"
     ]
    }
   ],
   "source": [
    "print(names)"
   ]
  },
  {
   "cell_type": "code",
   "execution_count": 44,
   "metadata": {},
   "outputs": [],
   "source": [
    "even_numbers = [2, 4, 6, 8, 10]                  #list of integers"
   ]
  },
  {
   "cell_type": "code",
   "execution_count": 45,
   "metadata": {},
   "outputs": [
    {
     "name": "stdout",
     "output_type": "stream",
     "text": [
      "[2, 4, 6, 8, 10]\n"
     ]
    }
   ],
   "source": [
    "print(even_numbers)"
   ]
  },
  {
   "cell_type": "code",
   "execution_count": 46,
   "metadata": {},
   "outputs": [],
   "source": [
    "info = ['Alicia', 27, 1550.87]                #list holding different data types"
   ]
  },
  {
   "cell_type": "code",
   "execution_count": 47,
   "metadata": {},
   "outputs": [
    {
     "name": "stdout",
     "output_type": "stream",
     "text": [
      "['Alicia', 27, 1550.87]\n"
     ]
    }
   ],
   "source": [
    "print(info)"
   ]
  },
  {
   "cell_type": "code",
   "execution_count": 48,
   "metadata": {},
   "outputs": [],
   "source": [
    "#repetation operator:"
   ]
  },
  {
   "cell_type": "code",
   "execution_count": 49,
   "metadata": {},
   "outputs": [],
   "source": [
    "numbers = [0] * 10"
   ]
  },
  {
   "cell_type": "code",
   "execution_count": 50,
   "metadata": {},
   "outputs": [
    {
     "name": "stdout",
     "output_type": "stream",
     "text": [
      "[0, 0, 0, 0, 0, 0, 0, 0, 0, 0]\n"
     ]
    }
   ],
   "source": [
    "print(numbers)"
   ]
  },
  {
   "cell_type": "code",
   "execution_count": 51,
   "metadata": {},
   "outputs": [],
   "source": [
    "x=['a','b','c','d','e','f'] * 3"
   ]
  },
  {
   "cell_type": "code",
   "execution_count": 52,
   "metadata": {},
   "outputs": [
    {
     "name": "stdout",
     "output_type": "stream",
     "text": [
      "['a', 'b', 'c', 'd', 'e', 'f', 'a', 'b', 'c', 'd', 'e', 'f', 'a', 'b', 'c', 'd', 'e', 'f']\n"
     ]
    }
   ],
   "source": [
    "print(x)"
   ]
  },
  {
   "cell_type": "code",
   "execution_count": 53,
   "metadata": {},
   "outputs": [],
   "source": [
    "a=[1,2,3,4]"
   ]
  },
  {
   "cell_type": "code",
   "execution_count": 54,
   "metadata": {},
   "outputs": [],
   "source": [
    "a.append(5)"
   ]
  },
  {
   "cell_type": "code",
   "execution_count": 55,
   "metadata": {},
   "outputs": [
    {
     "name": "stdout",
     "output_type": "stream",
     "text": [
      "[1, 2, 3, 4, 5]\n"
     ]
    }
   ],
   "source": [
    "print(a)"
   ]
  },
  {
   "cell_type": "code",
   "execution_count": 56,
   "metadata": {},
   "outputs": [
    {
     "data": {
      "text/plain": [
       "1"
      ]
     },
     "execution_count": 56,
     "metadata": {},
     "output_type": "execute_result"
    }
   ],
   "source": [
    "a[0]"
   ]
  },
  {
   "cell_type": "code",
   "execution_count": 57,
   "metadata": {},
   "outputs": [],
   "source": [
    "a[0]=7"
   ]
  },
  {
   "cell_type": "code",
   "execution_count": 58,
   "metadata": {},
   "outputs": [
    {
     "data": {
      "text/plain": [
       "[7, 2, 3, 4, 5]"
      ]
     },
     "execution_count": 58,
     "metadata": {},
     "output_type": "execute_result"
    }
   ],
   "source": [
    "a"
   ]
  },
  {
   "cell_type": "code",
   "execution_count": 59,
   "metadata": {},
   "outputs": [],
   "source": [
    "# Nested list"
   ]
  },
  {
   "cell_type": "code",
   "execution_count": 60,
   "metadata": {},
   "outputs": [],
   "source": [
    "x=[1,2,3,[4,5,['pratik']]]"
   ]
  },
  {
   "cell_type": "code",
   "execution_count": 61,
   "metadata": {},
   "outputs": [
    {
     "name": "stdout",
     "output_type": "stream",
     "text": [
      "2\n"
     ]
    }
   ],
   "source": [
    "print(x[1])"
   ]
  },
  {
   "cell_type": "code",
   "execution_count": 62,
   "metadata": {},
   "outputs": [
    {
     "data": {
      "text/plain": [
       "3"
      ]
     },
     "execution_count": 62,
     "metadata": {},
     "output_type": "execute_result"
    }
   ],
   "source": [
    "x[2]"
   ]
  },
  {
   "cell_type": "code",
   "execution_count": 63,
   "metadata": {},
   "outputs": [
    {
     "data": {
      "text/plain": [
       "[4, 5, ['pratik']]"
      ]
     },
     "execution_count": 63,
     "metadata": {},
     "output_type": "execute_result"
    }
   ],
   "source": [
    "x[3]"
   ]
  },
  {
   "cell_type": "code",
   "execution_count": 64,
   "metadata": {},
   "outputs": [
    {
     "data": {
      "text/plain": [
       "4"
      ]
     },
     "execution_count": 64,
     "metadata": {},
     "output_type": "execute_result"
    }
   ],
   "source": [
    "x[3][0]"
   ]
  },
  {
   "cell_type": "code",
   "execution_count": 65,
   "metadata": {},
   "outputs": [
    {
     "data": {
      "text/plain": [
       "['pratik']"
      ]
     },
     "execution_count": 65,
     "metadata": {},
     "output_type": "execute_result"
    }
   ],
   "source": [
    "x[3][2]"
   ]
  },
  {
   "cell_type": "code",
   "execution_count": 66,
   "metadata": {},
   "outputs": [
    {
     "data": {
      "text/plain": [
       "'pratik'"
      ]
     },
     "execution_count": 66,
     "metadata": {},
     "output_type": "execute_result"
    }
   ],
   "source": [
    "x[3][2][0]"
   ]
  },
  {
   "cell_type": "code",
   "execution_count": 67,
   "metadata": {},
   "outputs": [
    {
     "name": "stdout",
     "output_type": "stream",
     "text": [
      "pratik\n"
     ]
    }
   ],
   "source": [
    "print(x[3][2][0])"
   ]
  },
  {
   "cell_type": "markdown",
   "metadata": {},
   "source": [
    "List Methods:\n",
    "1)append\n",
    "2)index\n",
    "3)insert\n",
    "4)sort\n",
    "5)remove\n",
    "6)reverse"
   ]
  },
  {
   "cell_type": "code",
   "execution_count": 68,
   "metadata": {},
   "outputs": [
    {
     "name": "stdout",
     "output_type": "stream",
     "text": [
      "[1, 2, 3, 4, 5]\n",
      "[1, 2, 3, 4, 5, 6]\n"
     ]
    }
   ],
   "source": [
    "# 1)append:\n",
    "\n",
    "\n",
    "x=[1,2,3,4,5]\n",
    "print(x)\n",
    "x.append(6)\n",
    "print(x)"
   ]
  },
  {
   "cell_type": "code",
   "execution_count": 69,
   "metadata": {},
   "outputs": [
    {
     "name": "stdout",
     "output_type": "stream",
     "text": [
      "['pizza', 'hotdog', 'chipotle']\n",
      "Which item should i change?pizza\n",
      "Enter the value of new itemburger\n",
      "here is the revised list\n",
      "['burger', 'hotdog', 'chipotle']\n"
     ]
    }
   ],
   "source": [
    "# 2)index:\n",
    "\n",
    "def main():\n",
    "    a=['pizza','hotdog','chipotle']\n",
    "    \n",
    "    print(a)\n",
    "    \n",
    "    item=input('Which item should i change?')\n",
    "    \n",
    "    try:\n",
    "        b=a.index(item)\n",
    "        \n",
    "        new_item=input('Enter the value of new item')\n",
    "        \n",
    "        a[b]=new_item\n",
    "        \n",
    "        print('here is the revised list')\n",
    "        \n",
    "        print(a)\n",
    "        \n",
    "    except ValueError:\n",
    "        \n",
    "        print('This item is not found in the list')\n",
    "        \n",
    "        \n",
    "        \n",
    "        \n",
    "main()\n",
    "\n",
    "\n"
   ]
  },
  {
   "cell_type": "code",
   "execution_count": 70,
   "metadata": {},
   "outputs": [
    {
     "name": "stdout",
     "output_type": "stream",
     "text": [
      "[1, 2, 3, 4, 5]\n",
      "[1, 2, 3, 3, 4, 5]\n"
     ]
    }
   ],
   "source": [
    "# 3) insert:\n",
    "\n",
    "def main():\n",
    "    x=[1,2,3,4,5]\n",
    "    print(x)\n",
    "    x.insert(3,3)\n",
    "    print(x)\n",
    "\n",
    "main()"
   ]
  },
  {
   "cell_type": "code",
   "execution_count": 71,
   "metadata": {},
   "outputs": [
    {
     "name": "stdout",
     "output_type": "stream",
     "text": [
      "[1, 7, 5, 3, 4, 2]\n",
      "[1, 2, 3, 4, 5, 7]\n"
     ]
    }
   ],
   "source": [
    "# 4) sort:\n",
    "\n",
    "\n",
    "def main():\n",
    "    \n",
    "    a=[1,7,5,3,4,2]\n",
    "    \n",
    "    print(a)\n",
    "    \n",
    "    a.sort()\n",
    "    \n",
    "    print(a)\n",
    "    \n",
    "main()    \n",
    "    "
   ]
  },
  {
   "cell_type": "code",
   "execution_count": 72,
   "metadata": {},
   "outputs": [
    {
     "name": "stdout",
     "output_type": "stream",
     "text": [
      "[1, 2, 3, 4, 5, 6, 7]\n",
      "6\n",
      "[1, 2, 4, 5, 6, 7]\n"
     ]
    }
   ],
   "source": [
    "# 5) remove:\n",
    "\n",
    "\n",
    "def main():\n",
    "    \n",
    "    a1=[1,2,3,4,5,6,7]\n",
    "    \n",
    "    print(a1)\n",
    "    \n",
    "    a1.remove(3)\n",
    "    \n",
    "    print(len(a1))\n",
    "    \n",
    "    \n",
    "    print(a1)\n",
    "    \n",
    "main()    "
   ]
  },
  {
   "cell_type": "code",
   "execution_count": 73,
   "metadata": {},
   "outputs": [
    {
     "name": "stdout",
     "output_type": "stream",
     "text": [
      "['a', 'b', 'c', 'd', 'e', 'f']\n",
      "which item should i removedc\n",
      "['a', 'b', 'd', 'e', 'f']\n"
     ]
    }
   ],
   "source": [
    "# 6) remove:\n",
    "\n",
    "def main():\n",
    "    z=['a','b','c','d','e','f']\n",
    "    \n",
    "    print(z)\n",
    "    \n",
    "    item = input('which item should i removed')\n",
    "    \n",
    "    \n",
    "    try:\n",
    "        \n",
    "        z.remove(item)\n",
    "        \n",
    "        print(z)\n",
    "    \n",
    "    except ValueError:\n",
    "        print('Item not found in list')\n",
    "main()    \n"
   ]
  },
  {
   "cell_type": "code",
   "execution_count": 74,
   "metadata": {},
   "outputs": [
    {
     "name": "stdout",
     "output_type": "stream",
     "text": [
      "[1, 2, 3, 4, 5, 6]\n",
      "[6, 5, 4, 3, 2, 1]\n"
     ]
    }
   ],
   "source": [
    "# 7)reverse:\n",
    "\n",
    "def main():\n",
    "    a=[1,2,3,4,5,6]\n",
    "    print(a)\n",
    "    \n",
    "    a.reverse()\n",
    "    \n",
    "    print(a)\n",
    "    \n",
    "main()    "
   ]
  },
  {
   "cell_type": "code",
   "execution_count": 75,
   "metadata": {},
   "outputs": [
    {
     "name": "stdout",
     "output_type": "stream",
     "text": [
      "[1, 2, 3, 4, 5]\n",
      "[1, 2, 4, 5]\n"
     ]
    }
   ],
   "source": [
    "# del function():\n",
    "\n",
    "\n",
    "p=[1,2,3,4,5]\n",
    "print(p)\n",
    "del p[2]\n",
    "print(p)\n",
    "    "
   ]
  },
  {
   "cell_type": "code",
   "execution_count": 76,
   "metadata": {},
   "outputs": [
    {
     "name": "stdout",
     "output_type": "stream",
     "text": [
      "[100, 200, 4, 1, 99, 1111.11]\n",
      "Minimum valve in my list is: 1\n",
      "Maximum value in my list is: 1111.11\n"
     ]
    }
   ],
   "source": [
    "# Min And Max functions:\n",
    "\n",
    "\n",
    "def main():\n",
    "    my_list=[100,200,4,1,99,1111.11]\n",
    "    print(my_list)\n",
    "    \n",
    "    print('Minimum valve in my list is:',min(my_list))\n",
    "    \n",
    "    print('Maximum value in my list is:',max(my_list))\n",
    "    \n",
    "    \n",
    "main()    "
   ]
  },
  {
   "cell_type": "code",
   "execution_count": 77,
   "metadata": {},
   "outputs": [
    {
     "name": "stdout",
     "output_type": "stream",
     "text": [
      "[10, 20, 30, 40, 50]\n",
      "[10, 20, 30, 40, 50]\n"
     ]
    }
   ],
   "source": [
    "# copying list:\n",
    "\n",
    "def main():\n",
    "    a1=[10,20,30,40,50]\n",
    "    print(a1)\n",
    "    b1=a1\n",
    "    print(b1)\n",
    "main()"
   ]
  },
  {
   "cell_type": "code",
   "execution_count": 78,
   "metadata": {},
   "outputs": [
    {
     "name": "stdout",
     "output_type": "stream",
     "text": [
      "[1, 2, 3, 4, 5]\n",
      "[1]\n",
      "[1, 2]\n",
      "[1, 2, 3]\n",
      "[1, 2, 3, 4]\n",
      "[1, 2, 3, 4, 5]\n"
     ]
    }
   ],
   "source": [
    "def main():\n",
    "    a1=[1,2,3,4,5]\n",
    "    print(a1)\n",
    "    \n",
    "    b1=[]\n",
    "    \n",
    "    for item in a1:\n",
    "        b1.append(item)\n",
    "        print(b1)\n",
    "        \n",
    "        \n",
    "main()        "
   ]
  },
  {
   "cell_type": "code",
   "execution_count": 79,
   "metadata": {},
   "outputs": [
    {
     "name": "stdout",
     "output_type": "stream",
     "text": [
      "enter the hours worked by employee: 1 :\n",
      "10\n",
      "enter the hours worked by employee: 2 :\n",
      "12\n",
      "enter the hours worked by employee: 3 :\n",
      "12\n",
      "enter the hours worked by employee: 4 :\n",
      "15\n",
      "enter the hours worked by employee: 5 :\n",
      "18\n",
      "enter the hours worked by employee: 6 :\n",
      "19\n",
      "Please enter hourly pay rate:10\n",
      "Gross pay for employee 1 : $ 100\n",
      "Gross pay for employee 2 : $ 120\n",
      "Gross pay for employee 3 : $ 120\n",
      "Gross pay for employee 4 : $ 150\n",
      "Gross pay for employee 5 : $ 180\n",
      "Gross pay for employee 6 : $ 190\n"
     ]
    }
   ],
   "source": [
    "# Problem:\n",
    "\n",
    "#1)Megan owns a small neighborhood coffee shop, and she has six employees who work as baristas (coffee bartenders).\n",
    "#  All of the employees have the same hourly pay rate. Megan has asked you to design a program that will allow her \n",
    "#  to enter the number of hours worked by each employee,then display the amounts of all the employees’ gross pay. \n",
    "\n",
    "#You determine the program should perform the following steps:\n",
    "#    1. For each employee: get the number of hours worked and store it in a list element.\n",
    "#    2. For each list element: use the value stored in the element to calculate an employee’s gross pay.\n",
    "#       Display the amount of the gross pay.\n",
    "    \n",
    "    \n",
    "    \n",
    "\n",
    "number_of_employees = 6\n",
    "\n",
    "def main():\n",
    "    \n",
    "    hours = number_of_employees * [0]\n",
    "    \n",
    "    for index in range(number_of_employees):\n",
    "        print('enter the hours worked by employee:',index+1,':')\n",
    "        hours[index]=int(input())\n",
    "        \n",
    "        \n",
    "    pay_rate=int(input('Please enter hourly pay rate:'))\n",
    "    \n",
    "    for index in range(number_of_employees):\n",
    "        \n",
    "        gross_pay=hours[index] * pay_rate\n",
    "        \n",
    "        print('Gross pay for employee',index + 1,': $',gross_pay)\n",
    "        \n",
    "main()       "
   ]
  },
  {
   "cell_type": "code",
   "execution_count": 80,
   "metadata": {},
   "outputs": [
    {
     "name": "stdout",
     "output_type": "stream",
     "text": [
      "total of elements is: 112.6\n"
     ]
    }
   ],
   "source": [
    "#)Totaling the Values in a List:\n",
    "\n",
    "def main():\n",
    "    a=[91,2,3,4,5.6,7]\n",
    "    \n",
    "    total=0\n",
    "    \n",
    "    for value in a:\n",
    "        total += value\n",
    "        \n",
    "        \n",
    "    print('total of elements is:',total)\n",
    "    \n",
    "main()    \n"
   ]
  },
  {
   "cell_type": "code",
   "execution_count": 81,
   "metadata": {},
   "outputs": [
    {
     "name": "stdout",
     "output_type": "stream",
     "text": [
      "30.4\n"
     ]
    }
   ],
   "source": [
    "#)Averaging the Values in a List:\n",
    "\n",
    "\n",
    "\n",
    "def main():\n",
    "    \n",
    "    a=[10,22,30,40,50]\n",
    "    \n",
    "    total=0\n",
    "    \n",
    "    for value in a:\n",
    "        total += value\n",
    "        \n",
    "    average= total / len(a)\n",
    "    print(average)    \n",
    "    \n",
    "    \n",
    "main()    "
   ]
  },
  {
   "cell_type": "code",
   "execution_count": 82,
   "metadata": {},
   "outputs": [
    {
     "name": "stdout",
     "output_type": "stream",
     "text": [
      "[[772, 437, 986, 736], [817, 696, 688, 581], [520, 578, 637, 555]]\n"
     ]
    }
   ],
   "source": [
    "# two dimensional list:\n",
    "\n",
    "\n",
    "\n",
    "import random\n",
    "\n",
    "rows=3\n",
    "column=4\n",
    "\n",
    "\n",
    "def main():\n",
    "    values=[[0,0,0,0],\n",
    "            [0,0,0,0],\n",
    "            [0,0,0,0]]\n",
    "    \n",
    "    \n",
    "    for r in range(rows):\n",
    "        for c in range(column):\n",
    "            values[r][c]=random.randint(1,999)    #random.randint=it takses random numbers from form given range.\n",
    "            \n",
    "    print(values)        \n",
    "    \n",
    "main()    "
   ]
  },
  {
   "cell_type": "markdown",
   "metadata": {},
   "source": [
    "# dictionaries[ ]:\n",
    "It stores collection of data.\n",
    "Each element in dictionary tables has 2 parts keys and values:\n"
   ]
  },
  {
   "cell_type": "code",
   "execution_count": 83,
   "metadata": {},
   "outputs": [],
   "source": [
    "a={'x':'123','y':'456','z':'789'}"
   ]
  },
  {
   "cell_type": "code",
   "execution_count": 84,
   "metadata": {},
   "outputs": [
    {
     "name": "stdout",
     "output_type": "stream",
     "text": [
      "123\n"
     ]
    }
   ],
   "source": [
    "print(a['x'])"
   ]
  },
  {
   "cell_type": "code",
   "execution_count": 85,
   "metadata": {},
   "outputs": [
    {
     "name": "stdout",
     "output_type": "stream",
     "text": [
      "789\n"
     ]
    }
   ],
   "source": [
    "print(a['z'])"
   ]
  },
  {
   "cell_type": "code",
   "execution_count": 86,
   "metadata": {},
   "outputs": [],
   "source": [
    "x={'a':[1,2,3.3]}"
   ]
  },
  {
   "cell_type": "code",
   "execution_count": 87,
   "metadata": {},
   "outputs": [
    {
     "data": {
      "text/plain": [
       "[1, 2, 3.3]"
      ]
     },
     "execution_count": 87,
     "metadata": {},
     "output_type": "execute_result"
    }
   ],
   "source": [
    "x['a']"
   ]
  },
  {
   "cell_type": "code",
   "execution_count": 88,
   "metadata": {},
   "outputs": [
    {
     "data": {
      "text/plain": [
       "3.3"
      ]
     },
     "execution_count": 88,
     "metadata": {},
     "output_type": "execute_result"
    }
   ],
   "source": [
    "x['a'][2]"
   ]
  },
  {
   "cell_type": "code",
   "execution_count": 89,
   "metadata": {},
   "outputs": [],
   "source": [
    "x={'a':{'innerkey':[1,2,3,4]}}"
   ]
  },
  {
   "cell_type": "code",
   "execution_count": 90,
   "metadata": {},
   "outputs": [
    {
     "data": {
      "text/plain": [
       "{'innerkey': [1, 2, 3, 4]}"
      ]
     },
     "execution_count": 90,
     "metadata": {},
     "output_type": "execute_result"
    }
   ],
   "source": [
    "x['a']"
   ]
  },
  {
   "cell_type": "code",
   "execution_count": 91,
   "metadata": {},
   "outputs": [
    {
     "data": {
      "text/plain": [
       "[1, 2, 3, 4]"
      ]
     },
     "execution_count": 91,
     "metadata": {},
     "output_type": "execute_result"
    }
   ],
   "source": [
    "x['a']['innerkey']"
   ]
  },
  {
   "cell_type": "code",
   "execution_count": 92,
   "metadata": {},
   "outputs": [
    {
     "data": {
      "text/plain": [
       "2"
      ]
     },
     "execution_count": 92,
     "metadata": {},
     "output_type": "execute_result"
    }
   ],
   "source": [
    "x['a']['innerkey'][1]"
   ]
  },
  {
   "cell_type": "markdown",
   "metadata": {},
   "source": [
    "# Tuples(): It is considered as sequence of immutable objects."
   ]
  },
  {
   "cell_type": "code",
   "execution_count": 93,
   "metadata": {},
   "outputs": [],
   "source": [
    "a=(1,2,3)"
   ]
  },
  {
   "cell_type": "code",
   "execution_count": 94,
   "metadata": {},
   "outputs": [
    {
     "data": {
      "text/plain": [
       "1"
      ]
     },
     "execution_count": 94,
     "metadata": {},
     "output_type": "execute_result"
    }
   ],
   "source": [
    "a[0]"
   ]
  },
  {
   "cell_type": "code",
   "execution_count": 95,
   "metadata": {},
   "outputs": [
    {
     "ename": "TypeError",
     "evalue": "'tuple' object does not support item assignment",
     "output_type": "error",
     "traceback": [
      "\u001b[0;31m---------------------------------------------------------------------------\u001b[0m",
      "\u001b[0;31mTypeError\u001b[0m                                 Traceback (most recent call last)",
      "\u001b[0;32m<ipython-input-95-dd68d6475811>\u001b[0m in \u001b[0;36m<module>\u001b[0;34m\u001b[0m\n\u001b[0;32m----> 1\u001b[0;31m \u001b[0ma\u001b[0m\u001b[0;34m[\u001b[0m\u001b[0;36m0\u001b[0m\u001b[0;34m]\u001b[0m\u001b[0;34m=\u001b[0m \u001b[0;36m5\u001b[0m               \u001b[0;31m# tuples are immmutable(not chnageable).\u001b[0m\u001b[0;34m\u001b[0m\u001b[0;34m\u001b[0m\u001b[0m\n\u001b[0m",
      "\u001b[0;31mTypeError\u001b[0m: 'tuple' object does not support item assignment"
     ]
    }
   ],
   "source": [
    "a[0]= 5               # tuples are immmutable(not chnageable)."
   ]
  },
  {
   "cell_type": "code",
   "execution_count": null,
   "metadata": {},
   "outputs": [],
   "source": [
    "# conversion of tuple to list:\n",
    "\n",
    "\n",
    "a=(1,2,3,4)\n",
    "\n",
    "print(a)\n",
    "\n",
    "b=list(a)\n",
    "\n",
    "print(b)"
   ]
  },
  {
   "cell_type": "markdown",
   "metadata": {},
   "source": [
    "# Sets:  It keeps unique element."
   ]
  },
  {
   "cell_type": "code",
   "execution_count": 96,
   "metadata": {},
   "outputs": [
    {
     "data": {
      "text/plain": [
       "{1, 2, 3}"
      ]
     },
     "execution_count": 96,
     "metadata": {},
     "output_type": "execute_result"
    }
   ],
   "source": [
    "{1,2,3}"
   ]
  },
  {
   "cell_type": "code",
   "execution_count": 97,
   "metadata": {},
   "outputs": [
    {
     "data": {
      "text/plain": [
       "{1, 2, 3}"
      ]
     },
     "execution_count": 97,
     "metadata": {},
     "output_type": "execute_result"
    }
   ],
   "source": [
    "{1,1,1,2,2,2,3,3,3,3}"
   ]
  },
  {
   "cell_type": "code",
   "execution_count": 98,
   "metadata": {},
   "outputs": [],
   "source": [
    "s={1,2,3}"
   ]
  },
  {
   "cell_type": "code",
   "execution_count": 99,
   "metadata": {},
   "outputs": [],
   "source": [
    "s.add(5)"
   ]
  },
  {
   "cell_type": "code",
   "execution_count": 100,
   "metadata": {},
   "outputs": [
    {
     "data": {
      "text/plain": [
       "{1, 2, 3, 5}"
      ]
     },
     "execution_count": 100,
     "metadata": {},
     "output_type": "execute_result"
    }
   ],
   "source": [
    "s"
   ]
  },
  {
   "cell_type": "code",
   "execution_count": 101,
   "metadata": {},
   "outputs": [],
   "source": [
    "s.add(5)"
   ]
  },
  {
   "cell_type": "code",
   "execution_count": 102,
   "metadata": {},
   "outputs": [
    {
     "data": {
      "text/plain": [
       "{1, 2, 3, 5}"
      ]
     },
     "execution_count": 102,
     "metadata": {},
     "output_type": "execute_result"
    }
   ],
   "source": [
    "s"
   ]
  },
  {
   "cell_type": "code",
   "execution_count": 103,
   "metadata": {},
   "outputs": [],
   "source": [
    "\n",
    "\n",
    "a = {1,2,3}"
   ]
  },
  {
   "cell_type": "code",
   "execution_count": 104,
   "metadata": {},
   "outputs": [
    {
     "data": {
      "text/plain": [
       "True"
      ]
     },
     "execution_count": 104,
     "metadata": {},
     "output_type": "execute_result"
    }
   ],
   "source": [
    "True or True"
   ]
  },
  {
   "cell_type": "code",
   "execution_count": 105,
   "metadata": {},
   "outputs": [
    {
     "name": "stdout",
     "output_type": "stream",
     "text": [
      "[1, 16, 81, 256, 625]\n",
      "[1, 16, 81, 256, 625]\n",
      "[1, 16, 81, 256, 625]\n"
     ]
    }
   ],
   "source": [
    "# List comprehension:\n",
    "\n",
    "\n",
    "x=[1,2,3,4,5]             #creating list\n",
    "y=[]               #creating empty list.\n",
    "\n",
    "for num in x:             # num is temporary variable.\n",
    "    y.append(num**4)      # append is used to add values in given list.\n",
    "    \n",
    "    \n",
    "print(y)\n",
    "\n",
    "\n",
    "[num**4 for num in x]  # \"list comprehension\".\n",
    "print(y)\n",
    "\n",
    "#or\n",
    "\n",
    "y=[num**4 for num in x]\n",
    "print(y)"
   ]
  },
  {
   "cell_type": "markdown",
   "metadata": {},
   "source": [
    "# Map Function() :  "
   ]
  },
  {
   "cell_type": "code",
   "execution_count": 106,
   "metadata": {},
   "outputs": [
    {
     "data": {
      "text/plain": [
       "10"
      ]
     },
     "execution_count": 106,
     "metadata": {},
     "output_type": "execute_result"
    }
   ],
   "source": [
    "def times (var):\n",
    "    return var*2\n",
    "\n",
    "times(5)"
   ]
  },
  {
   "cell_type": "code",
   "execution_count": 107,
   "metadata": {},
   "outputs": [
    {
     "data": {
      "text/plain": [
       "10"
      ]
     },
     "execution_count": 107,
     "metadata": {},
     "output_type": "execute_result"
    }
   ],
   "source": [
    "# or we can do it in following ways also.\n",
    "\n",
    "\n",
    "def times (var):return var*2\n",
    "\n",
    "times(5)\n"
   ]
  },
  {
   "cell_type": "code",
   "execution_count": 108,
   "metadata": {},
   "outputs": [
    {
     "data": {
      "text/plain": [
       "<map at 0x7facf2972750>"
      ]
     },
     "execution_count": 108,
     "metadata": {},
     "output_type": "execute_result"
    }
   ],
   "source": [
    "def times (var):\n",
    "    return var*2\n",
    "\n",
    "times(5)\n",
    "\n",
    "sequence=[1,2,3,4,5]\n",
    "\n",
    "map(times,sequence)      # it will return that we map this sequence at perticular desination in memory."
   ]
  },
  {
   "cell_type": "code",
   "execution_count": 109,
   "metadata": {},
   "outputs": [
    {
     "data": {
      "text/plain": [
       "[2, 4, 6, 8, 10]"
      ]
     },
     "execution_count": 109,
     "metadata": {},
     "output_type": "execute_result"
    }
   ],
   "source": [
    "def times (var):\n",
    "    return var*2\n",
    "\n",
    "times(5)\n",
    "\n",
    "sequence=[1,2,3,4,5]\n",
    "\n",
    "map(times,sequence)\n",
    "\n",
    "list(map(times,sequence))"
   ]
  },
  {
   "cell_type": "markdown",
   "metadata": {},
   "source": [
    "# Lambda function():"
   ]
  },
  {
   "cell_type": "code",
   "execution_count": 110,
   "metadata": {},
   "outputs": [
    {
     "data": {
      "text/plain": [
       "20"
      ]
     },
     "execution_count": 110,
     "metadata": {},
     "output_type": "execute_result"
    }
   ],
   "source": [
    "# or we can do it in following ways also.\n",
    "\n",
    "\n",
    "def times (var):              #normal function.\n",
    "    return var*2\n",
    "times(5)\n",
    "\n",
    "\n",
    "def times (var):return var*2     # modified function.  \n",
    "times(5)\n",
    "\n",
    "\"\"\"-----------------------------------------------------------------------------\"\"\"\n",
    "\n",
    "lambda var:var*2               #lambda function creates anaonynous function.\n",
    "\n",
    "t=lambda var:var*2             # assign variable to lambda function.\n",
    "t(10)\n",
    "\n"
   ]
  },
  {
   "cell_type": "code",
   "execution_count": 111,
   "metadata": {},
   "outputs": [
    {
     "data": {
      "text/plain": [
       "10"
      ]
     },
     "execution_count": 111,
     "metadata": {},
     "output_type": "execute_result"
    }
   ],
   "source": [
    "def times (var):              #normal function\n",
    "    return var*2\n",
    "\n",
    "times(5)"
   ]
  },
  {
   "cell_type": "code",
   "execution_count": 113,
   "metadata": {},
   "outputs": [
    {
     "name": "stdout",
     "output_type": "stream",
     "text": [
      "[2, 4, 6, 8, 10]\n",
      "(2, 4, 6, 8, 10)\n",
      "{2, 4, 6, 8, 10}\n"
     ]
    }
   ],
   "source": [
    "\n",
    "sequence=[1,2,3,4,5]         # Map function\n",
    "\n",
    "map(times,sequence)\n",
    "\n",
    "x=list(map(times,sequence))\n",
    "\n",
    "x1=tuple(map(times,sequence))\n",
    "\n",
    "x2=set(map(times,sequence))\n",
    "\n",
    "print(x)\n",
    "\n",
    "print(x1)\n",
    "\n",
    "print(x2)\n"
   ]
  },
  {
   "cell_type": "code",
   "execution_count": 114,
   "metadata": {},
   "outputs": [
    {
     "data": {
      "text/plain": [
       "[3, 6, 9, 12, 15]"
      ]
     },
     "execution_count": 114,
     "metadata": {},
     "output_type": "execute_result"
    }
   ],
   "source": [
    "\n",
    "#lambda function:\n",
    "\n",
    "\n",
    "sequence=[1,2,3,4,5]         #lambda function modifying above function.\n",
    "\n",
    "list(map(lambda var: var*3,sequence))\n",
    "\n",
    "\n",
    "\n"
   ]
  },
  {
   "cell_type": "markdown",
   "metadata": {},
   "source": [
    "# Filter function (): It must be used with the lambda function which returns boolean values. i.e. True or False."
   ]
  },
  {
   "cell_type": "code",
   "execution_count": 115,
   "metadata": {},
   "outputs": [
    {
     "name": "stdout",
     "output_type": "stream",
     "text": [
      "[3, 6, 9, 12, 15]\n",
      "[2, 4]\n"
     ]
    }
   ],
   "source": [
    "sequence=[1,2,3,4,5]         #lambda function modifying above function.\n",
    "\n",
    "print(list(map(lambda var: var*3,sequence)))\n",
    "\n",
    "filter(lambda var: var*3,sequence)\n",
    "\n",
    "print(list(filter(lambda var: var%2 == 0,sequence))) # it divides the seqence number with two and return true and false value and also print divisible values in sequence.\n"
   ]
  },
  {
   "cell_type": "code",
   "execution_count": 116,
   "metadata": {},
   "outputs": [
    {
     "data": {
      "text/plain": [
       "['soup', 'salad']"
      ]
     },
     "execution_count": 116,
     "metadata": {},
     "output_type": "execute_result"
    }
   ],
   "source": [
    "seq = ['soup','dog','salad','cat','great']\n",
    "\n",
    "list(filter(lambda var: var[0] =='s',seq))"
   ]
  },
  {
   "cell_type": "code",
   "execution_count": null,
   "metadata": {},
   "outputs": [],
   "source": [
    "\n"
   ]
  },
  {
   "cell_type": "code",
   "execution_count": null,
   "metadata": {},
   "outputs": [],
   "source": []
  },
  {
   "cell_type": "code",
   "execution_count": null,
   "metadata": {},
   "outputs": [],
   "source": []
  },
  {
   "cell_type": "markdown",
   "metadata": {},
   "source": [
    "# tuple unpacking():\n"
   ]
  },
  {
   "cell_type": "code",
   "execution_count": 117,
   "metadata": {},
   "outputs": [],
   "source": [
    "x=[(1,2),(3,4),(5,6)]         #x variable contains list of tuple"
   ]
  },
  {
   "cell_type": "code",
   "execution_count": 118,
   "metadata": {},
   "outputs": [
    {
     "data": {
      "text/plain": [
       "(1, 2)"
      ]
     },
     "execution_count": 118,
     "metadata": {},
     "output_type": "execute_result"
    }
   ],
   "source": [
    "x[0]"
   ]
  },
  {
   "cell_type": "code",
   "execution_count": 119,
   "metadata": {},
   "outputs": [
    {
     "data": {
      "text/plain": [
       "2"
      ]
     },
     "execution_count": 119,
     "metadata": {},
     "output_type": "execute_result"
    }
   ],
   "source": [
    "x[0][1]"
   ]
  },
  {
   "cell_type": "code",
   "execution_count": 120,
   "metadata": {},
   "outputs": [
    {
     "name": "stdout",
     "output_type": "stream",
     "text": [
      "(1, 2)\n",
      "(3, 4)\n",
      "(5, 6)\n"
     ]
    }
   ],
   "source": [
    "for item in x:\n",
    "    print(item)"
   ]
  },
  {
   "cell_type": "code",
   "execution_count": 121,
   "metadata": {},
   "outputs": [
    {
     "name": "stdout",
     "output_type": "stream",
     "text": [
      "1\n",
      "3\n",
      "5\n"
     ]
    }
   ],
   "source": [
    "for (a,b) in x:            # tuple unpacking\n",
    "    print(a)"
   ]
  },
  {
   "cell_type": "code",
   "execution_count": 122,
   "metadata": {},
   "outputs": [
    {
     "name": "stdout",
     "output_type": "stream",
     "text": [
      "2\n",
      "4\n",
      "6\n"
     ]
    }
   ],
   "source": [
    "for a,b in x:               # tuple unpacking\n",
    "    print(b)"
   ]
  },
  {
   "cell_type": "code",
   "execution_count": 123,
   "metadata": {},
   "outputs": [
    {
     "name": "stdout",
     "output_type": "stream",
     "text": [
      "1\n",
      "2\n",
      "3\n",
      "4\n",
      "5\n",
      "6\n"
     ]
    }
   ],
   "source": [
    "for (a,b) in x:               # tuple unpacking\n",
    "    print(a)\n",
    "    print(b)"
   ]
  },
  {
   "cell_type": "code",
   "execution_count": 124,
   "metadata": {},
   "outputs": [
    {
     "name": "stdout",
     "output_type": "stream",
     "text": [
      "1\n",
      "2\n",
      "3\n",
      "4\n",
      "5\n",
      "6\n"
     ]
    }
   ],
   "source": [
    "for (a,b) in x:               # tuple unpacking\n",
    "    print(a)\n",
    "    print(b)\n"
   ]
  },
  {
   "cell_type": "markdown",
   "metadata": {},
   "source": [
    "\n",
    "# Loops:\n",
    "\n",
    "# 1)while loop:  \n",
    "-A condition-controlled loop causes a statement or set of statements to repeat as long as a condition is true. In Python, you use the while state-ment to write a condition-controlled loop.\n",
    "\n",
    "-The while loop is known as a pretest loop, which means it tests its condition before per-forming an iteration. Because the test is done at the beginning of the loop, you usually have to perform some steps prior to the loop to make sure that the loop executes at least once."
   ]
  },
  {
   "cell_type": "code",
   "execution_count": 125,
   "metadata": {},
   "outputs": [
    {
     "name": "stdout",
     "output_type": "stream",
     "text": [
      "Enter total sales amount1000\n",
      "Enter commission rate13\n",
      "Commission is  130.00\n",
      "Do u want to calculate another commissioncommission (enter y for yes):n\n"
     ]
    }
   ],
   "source": [
    "x='y';\n",
    "\n",
    "while x=='y':\n",
    "    #get salesperson sales and commission rate.\n",
    "    \n",
    "    a=float(input('Enter total sales amount'))\n",
    "    b=float(input('Enter commission rate'))\n",
    "    \n",
    "    \n",
    "    \n",
    "    commission= a*(b/100)\n",
    "    \n",
    "    print('Commission is ',format(commission,'.2f'))\n",
    "    \n",
    "    \n",
    "    x=input('Do u want to calculate another commission' + 'commission (enter y for yes / N):')"
   ]
  },
  {
   "cell_type": "markdown",
   "metadata": {},
   "source": [
    "#2) For loop:\n",
    "\n",
    "-A count-controlled loop iterates a specific number of times. In Python,you use the for statement to write a count-controlled loop."
   ]
  },
  {
   "cell_type": "code",
   "execution_count": 126,
   "metadata": {},
   "outputs": [
    {
     "name": "stdout",
     "output_type": "stream",
     "text": [
      "2\n",
      "4\n",
      "6\n",
      "8\n"
     ]
    }
   ],
   "source": [
    "for num in range(2,10,2):\n",
    "    print(num)"
   ]
  },
  {
   "cell_type": "code",
   "execution_count": 127,
   "metadata": {},
   "outputs": [
    {
     "name": "stdout",
     "output_type": "stream",
     "text": [
      "Pratik\n",
      "Pratik\n",
      "Pratik\n",
      "Pratik\n",
      "Pratik\n"
     ]
    }
   ],
   "source": [
    "for x in range(5):\n",
    "    print('Pratik')\n",
    "        "
   ]
  },
  {
   "cell_type": "code",
   "execution_count": 128,
   "metadata": {},
   "outputs": [
    {
     "name": "stdout",
     "output_type": "stream",
     "text": [
      "1 \t 1\n",
      "2 \t 4\n",
      "3 \t 9\n",
      "4 \t 16\n",
      "5 \t 25\n",
      "6 \t 36\n",
      "7 \t 49\n",
      "8 \t 64\n",
      "9 \t 81\n",
      "10 \t 100\n"
     ]
    }
   ],
   "source": [
    "for y in range(1,11):\n",
    "    x=y**2\n",
    "    print(y,'\\t',x)"
   ]
  },
  {
   "cell_type": "code",
   "execution_count": 131,
   "metadata": {},
   "outputs": [
    {
     "name": "stdout",
     "output_type": "stream",
     "text": [
      "Please enter speed in range 60 to 130 kph:120\n",
      "kph \t mph\n",
      "-------------\n",
      "60 \t 37.28\n",
      "70 \t 43.50\n",
      "80 \t 49.71\n",
      "90 \t 55.93\n",
      "100 \t 62.14\n",
      "110 \t 68.35\n",
      "120 \t 74.57\n"
     ]
    }
   ],
   "source": [
    "kph=float(input('Please enter speed in range 60 to 130 kph:'))\n",
    "\n",
    "\n",
    "print('kph \\t mph')\n",
    "print('-------------')\n",
    "\n",
    "for kph in range(60,130,10):\n",
    "    \n",
    "    mph = kph *0.6214\n",
    "    \n",
    "    print(kph,'\\t',format(mph,'.2f'))\n",
    "    "
   ]
  },
  {
   "cell_type": "code",
   "execution_count": 148,
   "metadata": {},
   "outputs": [
    {
     "name": "stdout",
     "output_type": "stream",
     "text": [
      "Enter number upto you want to calculate square of number : 20\n",
      "Number \t Square\n",
      "1 \t 1\n",
      "2 \t 4\n",
      "3 \t 9\n",
      "4 \t 16\n",
      "5 \t 25\n",
      "6 \t 36\n",
      "7 \t 49\n",
      "8 \t 64\n",
      "9 \t 81\n",
      "10 \t 100\n",
      "11 \t 121\n",
      "12 \t 144\n",
      "13 \t 169\n",
      "14 \t 196\n",
      "15 \t 225\n",
      "16 \t 256\n",
      "17 \t 289\n",
      "18 \t 324\n",
      "19 \t 361\n",
      "20 \t 400\n"
     ]
    }
   ],
   "source": [
    "\n",
    "end = int(input('Enter number upto you want to calculate square of number : '))\n",
    "\n",
    "print('Number \\t Square')\n",
    "\n",
    "\n",
    "for n in range(1,end+1):\n",
    "    \n",
    "    square = n **2;\n",
    "    \n",
    "    print(n,'\\t',square)"
   ]
  },
  {
   "cell_type": "code",
   "execution_count": 140,
   "metadata": {},
   "outputs": [
    {
     "name": "stdout",
     "output_type": "stream",
     "text": [
      "10\n",
      "9\n",
      "8\n",
      "7\n",
      "6\n",
      "5\n",
      "4\n",
      "3\n",
      "2\n",
      "1\n",
      "0\n",
      "1\n",
      "2\n",
      "3\n",
      "4\n",
      "5\n",
      "6\n",
      "7\n",
      "8\n",
      "9\n"
     ]
    }
   ],
   "source": [
    "for x in range(10,0,-1):\n",
    "    print(x)\n",
    "    \n",
    "for x in range(0,10,1):\n",
    "    print(x)"
   ]
  },
  {
   "cell_type": "code",
   "execution_count": 141,
   "metadata": {},
   "outputs": [
    {
     "name": "stdout",
     "output_type": "stream",
     "text": [
      "Enter list size:4\n",
      "1\n",
      "2\n",
      "3\n",
      "4\n",
      "[1, 2, 3, 4]\n",
      "Please enter your choices to perform operations on list:\n",
      "Press 1 for addition : \n",
      " Press 2 for subtraction : \n",
      " Press 3 for division : \n",
      " Press 4 for multiplication:\n",
      "enter your choice:1\n",
      "The sum of total of elements is : 4.0\n"
     ]
    }
   ],
   "source": [
    "# Running total:\n",
    "\n",
    "def main():\n",
    "    x=[]\n",
    "    n=int(input('Enter list size:'))\n",
    "    \n",
    "    for i in range(n):\n",
    "        item=int(input())\n",
    "        x.append(item)\n",
    "        \n",
    "    print(x)\n",
    "    \n",
    "    x1=x\n",
    "      \n",
    "    \n",
    "    print('Please enter your choices to perform operations on list:')\n",
    "    print('Press 1 for addition :','\\n','Press 2 for subtraction :','\\n','Press 3 for division :','\\n','Press 4 for multiplication:')\n",
    "    ch=int(input('enter your choice:'))\n",
    "    if ch ==1:\n",
    "        for value in x1:\n",
    "            y=0.0\n",
    "            y +=value\n",
    "            \n",
    "        print('The sum of total of elements is :',y)    \n",
    "    \n",
    "    elif ch ==2:\n",
    "        for value in x1:\n",
    "            y=0.0\n",
    "            y -=value\n",
    "            \n",
    "        print('The subtraction of total of elements is :',y)    \n",
    "    \n",
    "    elif ch ==3:\n",
    "        for value in x1:\n",
    "            y=0.0\n",
    "            y +=value\n",
    "            y /=n\n",
    "            \n",
    "        print('The division of total of elements is :',y)    \n",
    "    \n",
    "    elif ch ==4:\n",
    "        for value in x1:\n",
    "            y=1\n",
    "            y *=value\n",
    "            \n",
    "        print('The multiplication of total of elements is :',y)    \n",
    "        \n",
    "    else:\n",
    "        print(x1)\n",
    "main()    \n",
    "\n",
    "\n",
    "    "
   ]
  },
  {
   "cell_type": "code",
   "execution_count": 144,
   "metadata": {},
   "outputs": [
    {
     "name": "stdout",
     "output_type": "stream",
     "text": [
      "Enter list size:5\n",
      "Please enter inputs as per list size \n",
      "1\n",
      "2\n",
      "3\n",
      "4\n",
      "5\n",
      "[1, 2, 3, 4, 5]\n",
      "The total of element is : 120\n"
     ]
    }
   ],
   "source": [
    "# Running total:\n",
    "\n",
    "def main():\n",
    "    x=[]\n",
    "    n=int(input('Enter list size:'))\n",
    "    print('Please enter inputs as per list size ')\n",
    "    \n",
    "    for i in range(n):\n",
    "        item=int(input())\n",
    "        x.append(item)\n",
    "        \n",
    "    print(x)\n",
    "    \n",
    "    x1=x\n",
    "    y=1\n",
    "    \n",
    "    \n",
    "    for value in x1:\n",
    "        y *=value\n",
    "    print('The total of element is :',y)    \n",
    "    \n",
    "main()    \n",
    "\n",
    "\n",
    "    "
   ]
  },
  {
   "cell_type": "code",
   "execution_count": 158,
   "metadata": {},
   "outputs": [
    {
     "name": "stdout",
     "output_type": "stream",
     "text": [
      "Enter a Number: 5\n",
      "Factorial of 5 is:  120\n"
     ]
    }
   ],
   "source": [
    "# Factorial of number\n",
    "\n",
    "number = int(input(\"Enter a Number: \"))\n",
    "\n",
    "def factorial(number):\n",
    "    \n",
    "    if number == 1:\n",
    "        return (number)\n",
    "    else:\n",
    "        return (number * factorial(number - 1))\n",
    "    \n",
    "factorial(number)\n",
    "\n",
    "if number < 0:\n",
    "    print(\"Factorial cannot be found for negative numbers\")\n",
    "    \n",
    "elif number == 0:\n",
    "    print(\"Factorial of 0 is 1\")\n",
    "    \n",
    "else:\n",
    "    print(\"Factorial of\", number, \"is: \", factorial(number))\n"
   ]
  },
  {
   "cell_type": "code",
   "execution_count": null,
   "metadata": {},
   "outputs": [],
   "source": []
  }
 ],
 "metadata": {
  "kernelspec": {
   "display_name": "Python 3",
   "language": "python",
   "name": "python3"
  },
  "language_info": {
   "codemirror_mode": {
    "name": "ipython",
    "version": 3
   },
   "file_extension": ".py",
   "mimetype": "text/x-python",
   "name": "python",
   "nbconvert_exporter": "python",
   "pygments_lexer": "ipython3",
   "version": "3.7.4"
  }
 },
 "nbformat": 4,
 "nbformat_minor": 2
}
